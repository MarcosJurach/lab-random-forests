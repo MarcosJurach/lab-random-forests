{
 "cells": [
  {
   "cell_type": "markdown",
   "id": "3c1df710",
   "metadata": {},
   "source": [
    "# Lab | Random Forests\n",
    "\n",
    "\n"
   ]
  },
  {
   "cell_type": "markdown",
   "id": "57aa1c18",
   "metadata": {},
   "source": [
    "\n",
    "\n",
    "# Import Dependecies & Data"
   ]
  },
  {
   "cell_type": "code",
   "execution_count": 1,
   "id": "007e9a3a",
   "metadata": {},
   "outputs": [],
   "source": [
    "import pandas as pd\n",
    "import numpy as np\n",
    "import matplotlib.pyplot as plt\n",
    "from sklearn.model_selection import train_test_split\n",
    "from sklearn.neighbors import KNeighborsClassifier\n",
    "from imblearn.over_sampling import SMOTE\n",
    "from sklearn.ensemble import RandomForestClassifier\n",
    "from sklearn.metrics import classification_report"
   ]
  },
  {
   "cell_type": "code",
   "execution_count": 2,
   "id": "8df6ebf4",
   "metadata": {},
   "outputs": [],
   "source": [
    "categorical = pd.read_csv(\"files_for_lab/categorical.csv\")\n",
    "numerical = pd.read_csv(\"files_for_lab/numerical.csv\")\n",
    "target = pd.read_csv(\"files_for_lab/target.csv\")"
   ]
  },
  {
   "cell_type": "markdown",
   "id": "1d9fc982",
   "metadata": {},
   "source": [
    "# Data Exploration"
   ]
  },
  {
   "cell_type": "code",
   "execution_count": 3,
   "id": "c8c47019",
   "metadata": {},
   "outputs": [
    {
     "name": "stdout",
     "output_type": "stream",
     "text": [
      "<class 'pandas.core.frame.DataFrame'>\n",
      "RangeIndex: 95412 entries, 0 to 95411\n",
      "Data columns (total 22 columns):\n",
      " #   Column        Non-Null Count  Dtype \n",
      "---  ------        --------------  ----- \n",
      " 0   STATE         95412 non-null  object\n",
      " 1   CLUSTER       95412 non-null  int64 \n",
      " 2   HOMEOWNR      95412 non-null  object\n",
      " 3   GENDER        95412 non-null  object\n",
      " 4   DATASRCE      95412 non-null  int64 \n",
      " 5   RFA_2R        95412 non-null  object\n",
      " 6   RFA_2A        95412 non-null  object\n",
      " 7   GEOCODE2      95412 non-null  object\n",
      " 8   DOMAIN_A      95412 non-null  object\n",
      " 9   DOMAIN_B      95412 non-null  int64 \n",
      " 10  ODATEW_YR     95412 non-null  int64 \n",
      " 11  ODATEW_MM     95412 non-null  int64 \n",
      " 12  DOB_YR        95412 non-null  int64 \n",
      " 13  DOB_MM        95412 non-null  int64 \n",
      " 14  MINRDATE_YR   95412 non-null  int64 \n",
      " 15  MINRDATE_MM   95412 non-null  int64 \n",
      " 16  MAXRDATE_YR   95412 non-null  int64 \n",
      " 17  MAXRDATE_MM   95412 non-null  int64 \n",
      " 18  LASTDATE_YR   95412 non-null  int64 \n",
      " 19  LASTDATE_MM   95412 non-null  int64 \n",
      " 20  FIRSTDATE_YR  95412 non-null  int64 \n",
      " 21  FIRSTDATE_MM  95412 non-null  int64 \n",
      "dtypes: int64(15), object(7)\n",
      "memory usage: 16.0+ MB\n"
     ]
    }
   ],
   "source": [
    "categorical.info()"
   ]
  },
  {
   "cell_type": "code",
   "execution_count": 4,
   "id": "3d52bc4b",
   "metadata": {},
   "outputs": [
    {
     "name": "stdout",
     "output_type": "stream",
     "text": [
      "<class 'pandas.core.frame.DataFrame'>\n",
      "RangeIndex: 95412 entries, 0 to 95411\n",
      "Data columns (total 2 columns):\n",
      " #   Column    Non-Null Count  Dtype  \n",
      "---  ------    --------------  -----  \n",
      " 0   TARGET_B  95412 non-null  int64  \n",
      " 1   TARGET_D  95412 non-null  float64\n",
      "dtypes: float64(1), int64(1)\n",
      "memory usage: 1.5 MB\n"
     ]
    }
   ],
   "source": [
    "target.info()"
   ]
  },
  {
   "cell_type": "code",
   "execution_count": 5,
   "id": "ce9b386f",
   "metadata": {},
   "outputs": [
    {
     "data": {
      "text/plain": [
       "0    0.949241\n",
       "1    0.050759\n",
       "Name: TARGET_B, dtype: float64"
      ]
     },
     "execution_count": 5,
     "metadata": {},
     "output_type": "execute_result"
    }
   ],
   "source": [
    "# checking for imbalance\n",
    "target['TARGET_B'].value_counts(normalize=True)"
   ]
  },
  {
   "cell_type": "code",
   "execution_count": 6,
   "id": "efe5a385",
   "metadata": {},
   "outputs": [],
   "source": [
    "# 95% of the answers are 0 on the feature TARGET_B, so we'll have to keep this in mind"
   ]
  },
  {
   "cell_type": "code",
   "execution_count": 7,
   "id": "14925402",
   "metadata": {},
   "outputs": [
    {
     "name": "stdout",
     "output_type": "stream",
     "text": [
      "<class 'pandas.core.frame.DataFrame'>\n",
      "RangeIndex: 95412 entries, 0 to 95411\n",
      "Columns: 315 entries, TCODE to CLUSTER2\n",
      "dtypes: float64(9), int64(306)\n",
      "memory usage: 229.3 MB\n"
     ]
    }
   ],
   "source": [
    "numerical.info()"
   ]
  },
  {
   "cell_type": "code",
   "execution_count": 8,
   "id": "37ad21c1",
   "metadata": {},
   "outputs": [
    {
     "data": {
      "text/plain": [
       "TCODE       0\n",
       "AGE         0\n",
       "INCOME      0\n",
       "WEALTH1     0\n",
       "HIT         0\n",
       "           ..\n",
       "AVGGIFT     0\n",
       "CONTROLN    0\n",
       "HPHONE_D    0\n",
       "RFA_2F      0\n",
       "CLUSTER2    0\n",
       "Length: 315, dtype: int64"
      ]
     },
     "execution_count": 8,
     "metadata": {},
     "output_type": "execute_result"
    }
   ],
   "source": [
    "# looking for NA since its numerical data\n",
    "numerical.isna().sum()"
   ]
  },
  {
   "cell_type": "markdown",
   "id": "60e98ba3",
   "metadata": {},
   "source": [
    "# Data Cleaning & Preprocessing"
   ]
  },
  {
   "cell_type": "code",
   "execution_count": 9,
   "id": "2faf1418",
   "metadata": {},
   "outputs": [],
   "source": [
    "# lets drop the TARGET_D feature since its one level deeper into the information we want\n",
    "\n",
    "target = target.drop(['TARGET_D'], axis = 1)"
   ]
  },
  {
   "cell_type": "code",
   "execution_count": 10,
   "id": "171db6ac",
   "metadata": {},
   "outputs": [],
   "source": [
    "# dropping a feature that has the same value of every data point\n",
    "categorical = categorical.drop(['RFA_2R'], axis = 1)"
   ]
  },
  {
   "cell_type": "code",
   "execution_count": 11,
   "id": "19795484",
   "metadata": {},
   "outputs": [],
   "source": [
    "df = pd.concat([numerical,categorical,target], axis = 1)"
   ]
  },
  {
   "cell_type": "code",
   "execution_count": 12,
   "id": "8fff0246",
   "metadata": {
    "scrolled": true
   },
   "outputs": [
    {
     "name": "stdout",
     "output_type": "stream",
     "text": [
      "<class 'pandas.core.frame.DataFrame'>\n",
      "RangeIndex: 95412 entries, 0 to 95411\n",
      "Columns: 337 entries, TCODE to TARGET_B\n",
      "dtypes: float64(9), int64(322), object(6)\n",
      "memory usage: 245.3+ MB\n"
     ]
    }
   ],
   "source": [
    "df.info()"
   ]
  },
  {
   "cell_type": "code",
   "execution_count": 13,
   "id": "56b87f46",
   "metadata": {},
   "outputs": [],
   "source": [
    "# X-y split\n",
    "X = df.drop(['TARGET_B'],axis = 1)\n",
    "y = pd.DataFrame(data=df, columns=['TARGET_B'])"
   ]
  },
  {
   "cell_type": "code",
   "execution_count": 14,
   "id": "587e1442",
   "metadata": {},
   "outputs": [],
   "source": [
    "X = pd.get_dummies(X, drop_first = True)"
   ]
  },
  {
   "cell_type": "code",
   "execution_count": 15,
   "id": "4ca6a564",
   "metadata": {},
   "outputs": [],
   "source": [
    "# Train Test Split\n",
    "X_train,X_test,y_train,y_test = train_test_split(X, y, test_size = 0.20, random_state = 42, shuffle = True, stratify = y)"
   ]
  },
  {
   "cell_type": "markdown",
   "id": "53637e5b",
   "metadata": {},
   "source": [
    "# Modeling"
   ]
  },
  {
   "cell_type": "code",
   "execution_count": 16,
   "id": "4619c4ce",
   "metadata": {},
   "outputs": [],
   "source": [
    "# since we have seen above that the data is completely imbalanced (95%/5%) we'll directly implement oversampling techniques"
   ]
  },
  {
   "cell_type": "code",
   "execution_count": 17,
   "id": "5880fb03",
   "metadata": {},
   "outputs": [],
   "source": [
    "# implementing SMOTE and calling the classifier\n",
    "\n",
    "\n",
    "smote = SMOTE(k_neighbors = 10)\n",
    "X_train_SMOTE,y_train_SMOTE = smote.fit_resample(X_train, y_train)\n",
    "\n",
    "rfc = RandomForestClassifier(random_state = 10)"
   ]
  },
  {
   "cell_type": "code",
   "execution_count": 18,
   "id": "f6c44a4e",
   "metadata": {},
   "outputs": [],
   "source": [
    "# function\n",
    "\n",
    "def model(classifier, X_train, X_test, y_train, y_test):\n",
    "    classifier.fit(X_train,y_train)\n",
    "    pred_train = classifier.predict(X_train)\n",
    "    pred_test = classifier.predict(X_test)\n",
    "    print(classification_report(y_test, pred_test))"
   ]
  },
  {
   "cell_type": "code",
   "execution_count": 19,
   "id": "6de6ccd3",
   "metadata": {},
   "outputs": [
    {
     "name": "stderr",
     "output_type": "stream",
     "text": [
      "C:\\Users\\Anakz\\AppData\\Local\\Temp\\ipykernel_6556\\3290112732.py:5: DataConversionWarning: A column-vector y was passed when a 1d array was expected. Please change the shape of y to (n_samples,), for example using ravel().\n",
      "  classifier.fit(X_train,y_train)\n"
     ]
    },
    {
     "name": "stdout",
     "output_type": "stream",
     "text": [
      "              precision    recall  f1-score   support\n",
      "\n",
      "           0       0.95      1.00      0.97     18114\n",
      "           1       0.00      0.00      0.00       969\n",
      "\n",
      "    accuracy                           0.95     19083\n",
      "   macro avg       0.47      0.50      0.49     19083\n",
      "weighted avg       0.90      0.95      0.92     19083\n",
      "\n"
     ]
    }
   ],
   "source": [
    "# let's compare the baseline model...\n",
    "\n",
    "model(rfc, X_train, X_test, y_train, y_test)"
   ]
  },
  {
   "cell_type": "code",
   "execution_count": 20,
   "id": "9c5341f5",
   "metadata": {},
   "outputs": [
    {
     "name": "stderr",
     "output_type": "stream",
     "text": [
      "C:\\Users\\Anakz\\AppData\\Local\\Temp\\ipykernel_6556\\3290112732.py:5: DataConversionWarning: A column-vector y was passed when a 1d array was expected. Please change the shape of y to (n_samples,), for example using ravel().\n",
      "  classifier.fit(X_train,y_train)\n"
     ]
    },
    {
     "name": "stdout",
     "output_type": "stream",
     "text": [
      "              precision    recall  f1-score   support\n",
      "\n",
      "           0       0.95      1.00      0.97     18114\n",
      "           1       0.04      0.00      0.01       969\n",
      "\n",
      "    accuracy                           0.95     19083\n",
      "   macro avg       0.50      0.50      0.49     19083\n",
      "weighted avg       0.90      0.95      0.92     19083\n",
      "\n"
     ]
    }
   ],
   "source": [
    "#... with the balanced data\n",
    "model(rfc, X_train_SMOTE, X_test, y_train_SMOTE, y_test)"
   ]
  },
  {
   "cell_type": "markdown",
   "id": "c479d147",
   "metadata": {},
   "source": [
    "##### we can see that the imbalanced present a really good accuracy but thats mainly because 95% of the target variable is 0, and it actually performs really bad the 1 values.\n",
    "##### sadly, the oversampling does not solve this problem either\n"
   ]
  }
 ],
 "metadata": {
  "kernelspec": {
   "display_name": "Python 3 (ipykernel)",
   "language": "python",
   "name": "python3"
  },
  "language_info": {
   "codemirror_mode": {
    "name": "ipython",
    "version": 3
   },
   "file_extension": ".py",
   "mimetype": "text/x-python",
   "name": "python",
   "nbconvert_exporter": "python",
   "pygments_lexer": "ipython3",
   "version": "3.9.12"
  }
 },
 "nbformat": 4,
 "nbformat_minor": 5
}
